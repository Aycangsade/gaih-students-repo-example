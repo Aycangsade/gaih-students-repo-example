{
  "nbformat": 4,
  "nbformat_minor": 0,
  "metadata": {
    "colab": {
      "name": "Final Project.ipynb ",
      "provenance": [],
      "authorship_tag": "ABX9TyOcCCt03nktxURbUWNnuTXC",
      "include_colab_link": true
    },
    "kernelspec": {
      "name": "python3",
      "display_name": "Python 3"
    }
  },
  "cells": [
    {
      "cell_type": "markdown",
      "metadata": {
        "id": "view-in-github",
        "colab_type": "text"
      },
      "source": [
        "<a href=\"https://colab.research.google.com/github/Aycangsade/gaih-students-repo-example-Aycan-Gizem-Sade/blob/main/Final_Project.ipynb\" target=\"_parent\"><img src=\"https://colab.research.google.com/assets/colab-badge.svg\" alt=\"Open In Colab\"/></a>"
      ]
    },
    {
      "cell_type": "code",
      "metadata": {
        "id": "fY950NKshxIs"
      },
      "source": [
        "#Final Project Codes\r\n",
        "print(\"DEAR VIEWERS WELCOME TO THE KNOWLEDGE COMPETITION.\")\r\n",
        "print(\"Today we have only one contestant and one big reward. I think you are wondering to much. So, the reward is one month holiday in wherever you want.\")\r\n",
        "print(\"Competition is starting!\")\r\n",
        "name=input(\"Welcome ma'am / sir . Please enter your name and surname:\")\r\n",
        "print(\"Thank you!\",name)\r\n",
        "print(\"Please write your answers' every first letter capital. Be careful! This is one of the most important rule.You have only one chance to answer questions.\")\r\n",
        "print(\"GOOD LUCK! DEAR\",name)"
      ],
      "execution_count": null,
      "outputs": []
    },
    {
      "cell_type": "code",
      "metadata": {
        "id": "QVxPlfZngmZi"
      },
      "source": [
        "score=0\r\n",
        "print(\"Question-1 is coming. Please be ready.\")\r\n",
        "print(\"Your current score is:\",score)\r\n",
        "print(\"Where is the capital of Australia?\")\r\n",
        "print(\"It can be confusing question. Most people misunderstand the answer of this question. Please think carefully.\")\r\n",
        "answer1=input(\"Enter your answer :\")\r\n",
        "if (answer1==\"Canberra\"):\r\n",
        "  print(\"Congratulations! Your answer is true. You got 10 points.\")\r\n",
        "  score=score+10\r\n",
        "  print(\"Your current score is:\",score)\r\n",
        "else:\r\n",
        "  print(\"Sorry! Your answer is wrong. True answer is Canberra.\")\r\n",
        "  print(\"Your current score is:\",score)\r\n",
        "\r\n",
        "print(\"You can move on to the next question.\")\r\n"
      ],
      "execution_count": null,
      "outputs": []
    },
    {
      "cell_type": "code",
      "metadata": {
        "id": "TDPw46nUjm_s"
      },
      "source": [
        "print(\"Quesiton-2 is coming. Please be ready.\")\r\n",
        "print(\"Your current score is:\",score)\r\n",
        "print(\"Evgeny Grinko is associated with which musical instruments?\")\r\n",
        "answer2=input(\"Enter your answer:\")\r\n",
        "if(answer2==\"Piano\"):\r\n",
        "  print(\"Congratulations! Your answer is true. You got 10 points.\")\r\n",
        "  score=score+10\r\n",
        "  print(\"Your current score is:\",score)\r\n",
        "else:\r\n",
        "  print(\"Sorry! Your answer is wrong.True answer is Piano.\")\r\n",
        "  print(\"Your current score is:\",score)\r\n",
        "\r\n",
        "print(\"You can move on to the next question.\")\r\n"
      ],
      "execution_count": null,
      "outputs": []
    },
    {
      "cell_type": "code",
      "metadata": {
        "id": "FtJ-vcu0krUP"
      },
      "source": [
        "print(\"Question-3 is coming. Please be ready.\")\r\n",
        "print(\"Your current score is:\",score)\r\n",
        "print(\"Who is the author of the book 'A Speech-Nutuk'?\") \r\n",
        "answer3=input(\"Enter your answer(Please write full name):\")\r\n",
        "if(answer3==\"Mustafa Kemal Atatürk\"):\r\n",
        "  print(\"Congratulations! Your answer is true. You got 10 points.\")\r\n",
        "  score=score+10\r\n",
        "  print(\"Your current score is:\",score)\r\n",
        "else:\r\n",
        "  print(\"Sorry! Your answer is wrong.True answer is Mustafa Kemal Atatürk.\")\r\n",
        "  print(\"Your current score is:\",score)\r\n",
        "\r\n",
        "print(\"You can move on to the next question.\")"
      ],
      "execution_count": null,
      "outputs": []
    },
    {
      "cell_type": "code",
      "metadata": {
        "id": "bhJD7L2Wk1Qn"
      },
      "source": [
        "print(\"Question-4 is coming. Please be ready.\")\r\n",
        "print(\"Your current score is:\",score)\r\n",
        "print(\"Which country won the most World Cup?\")\r\n",
        "answer4=input(\"Enter your answer:\")\r\n",
        "if(answer4==\"Brazil\"):\r\n",
        "  print(\"Congratulations! Your answer is true. You got 10 points.\")\r\n",
        "  score=score+10\r\n",
        "  print(\"Your current score is :\",score)\r\n",
        "else:\r\n",
        "  print(\"Sorry! Your answer is wrong.True answer is Brazil.\")\r\n",
        "  print(\"Your current score is:\",score)\r\n",
        "\r\n",
        "print(\"You can move on to the next question.\")"
      ],
      "execution_count": null,
      "outputs": []
    },
    {
      "cell_type": "code",
      "metadata": {
        "id": "EzGPw8m5k9VV"
      },
      "source": [
        "print(\"Question-5 is coming. Please be ready.\")\r\n",
        "print(\"Your current score is:\",score)\r\n",
        "print(\"Who is the first female fighter pilot?\")\r\n",
        "answer5=input(\"Enter your answer(Please write full name):\")\r\n",
        "if(answer5==\"Sabiha Gökçen\"):\r\n",
        "  print(\"Congratulations! your answer is true. You got 10 points.\")\r\n",
        "  score=score+10\r\n",
        "  print(\"Your current score is:\",score)\r\n",
        "else:\r\n",
        "  print(\"Sorry! Your answer is wrong.True answer is Sabiha Gökçen.\")\r\n",
        "  print(\"Your current score is:\",score)\r\n",
        "\r\n",
        "print(\"You can move on to the next question.\")"
      ],
      "execution_count": null,
      "outputs": []
    },
    {
      "cell_type": "code",
      "metadata": {
        "id": "3zA57yR2lDo9"
      },
      "source": [
        "print(\"Quesiton-6 is coming. Please be ready.\")\r\n",
        "print(\"Your current score is:\",score)\r\n",
        "print(\"Who discovered the radioactive element radium?\")\r\n",
        "answer6=input(\"Enter your answer(Please write full name):\")\r\n",
        "if(answer6==\"Marie Curie\"):\r\n",
        "  print(\"Congratulations! Your answer is true. You got 10 points.\")\r\n",
        "  score=score+10\r\n",
        "  print(\"Your current score is:\",score)\r\n",
        "else:\r\n",
        "  print(\"Sorry! Your answer is wrong.True answer is Marie Curie.\")\r\n",
        "  print(\"Your current score is:\",score)\r\n",
        "\r\n",
        "print(\"You can move on to the next question.\")"
      ],
      "execution_count": null,
      "outputs": []
    },
    {
      "cell_type": "code",
      "metadata": {
        "id": "7M-d0wcMlMK2"
      },
      "source": [
        "print(\"Question-7 is coming. Please be ready.\")\r\n",
        "print(\"Your current score is:\",score)\r\n",
        "print(\"In which year Turkish music band 'Manga' attended the Eurovision?\")\r\n",
        "answer7=input(\"Enter your answer:\")\r\n",
        "if(answer7==\"2010\"):\r\n",
        "  print(\"Congratulations! Your answer is true. You got 10 points\")\r\n",
        "  score=score+10\r\n",
        "  print(\"Your current score is:\",score)\r\n",
        "else:\r\n",
        "  print(\"Sorry! Your answer is wrong.True answer is 2010.\")\r\n",
        "  print(\"Your current score is:\",score)\r\n",
        "\r\n",
        "print(\"You can move on to the next question.\")"
      ],
      "execution_count": null,
      "outputs": []
    },
    {
      "cell_type": "code",
      "metadata": {
        "id": "NNTxHr8ElU6S"
      },
      "source": [
        "print(\"Question-8 is coming. Please be ready.\")\r\n",
        "print(\"Your current score is:\",score)\r\n",
        "print(\"Rafael Nadal is associated with which sport?\")\r\n",
        "answer8=input(\"Enter your answer:\")\r\n",
        "if(answer8==\"Tennis\"):\r\n",
        "  print(\"Congratulations! Your answer is true. You got 10 points.\")\r\n",
        "  score=score+10\r\n",
        "  print(\"Your current score is:\",score)\r\n",
        "else:\r\n",
        "  print(\"Sorry! Your answer is wrong.True answer is Tennis.\")\r\n",
        "  print(\"Your current score is:\",score)\r\n",
        "\r\n",
        "print(\"You can move on to the next question.\")"
      ],
      "execution_count": null,
      "outputs": []
    },
    {
      "cell_type": "code",
      "metadata": {
        "id": "3sxG5N38lb-S"
      },
      "source": [
        "print(\"Question-9 is coming. Please be ready.\")\r\n",
        "print(\"Your current score is:\",score)\r\n",
        "print(\"Who scored the most points in one basketball game in Euroleague?\")\r\n",
        "answer9=input(\"Enter your answer(Please write full name):\")\r\n",
        "if(answer9==\"Shane Larkin\"):\r\n",
        "  print(\"Congratulations! Your answer is true. You got 10 points.\")\r\n",
        "  score=score+10\r\n",
        "  print(\"Your current score is:\",score)\r\n",
        "else:\r\n",
        "  print(\"Sorry! Your answer is wrong.True answer is Shane Larkin.\")\r\n",
        "  print(\"Your current score is:\",score)\r\n",
        "\r\n",
        "print(\"You can move on to the next question.\")"
      ],
      "execution_count": null,
      "outputs": []
    },
    {
      "cell_type": "code",
      "metadata": {
        "id": "5HGlvoa_lgVD"
      },
      "source": [
        "print(\"This is the last question. Question-10 is coming. Please be ready, don't worry and take a deep breath. Dear\",name)\r\n",
        "print(\"Your current score is:\",score)\r\n",
        "print(\"In which year Turkish Republic established?\")\r\n",
        "answer10=input(\"Enter your answer:\") \r\n",
        "if(answer10==\"1923\"):\r\n",
        "  print(\"Congratulations! Your answer is true. You got 10 points.\")\r\n",
        "  score=score+10\r\n",
        "  print(\"Your current score is:\",score)\r\n",
        "else:\r\n",
        "  print(\"Sorry! Your answer is wrong.True answer is 1923.\")\r\n",
        "  print(\"Your current score is:\",score)\r\n",
        "\r\n",
        "print(\"Your questions finished. \")"
      ],
      "execution_count": null,
      "outputs": []
    },
    {
      "cell_type": "code",
      "metadata": {
        "id": "Ek9aE8R60sJu"
      },
      "source": [
        "print(\"The competition finished. Now we are evaluating your general score. It can take several minutes. Please wait calmly. Are you ready for that? Dear\",name)\r\n",
        "print(\"Your current score is:\",score)\r\n",
        "if score==100:\r\n",
        "  print(\"And I am declaring your general score....\")\r\n",
        "  print(\"Woow! Congratulations! You answered all questions true and you won the reward. You are successful.\")\r\n",
        "\r\n",
        "elif score > 50:\r\n",
        "  print(\"And I am declaring your general score.......\")\r\n",
        "  print(\"Congratulations! You passed the competition. You are successful Dear\",name)\r\n",
        "\r\n",
        "else:\r\n",
        "  print(\"Sorry! You failed the competition. You are unsuccessful. Please try again. Dear contestant\",name)"
      ],
      "execution_count": null,
      "outputs": []
    }
  ]
}