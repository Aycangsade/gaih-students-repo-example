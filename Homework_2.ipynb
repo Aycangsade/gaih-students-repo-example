{
  "nbformat": 4,
  "nbformat_minor": 0,
  "metadata": {
    "colab": {
      "name": "Homework-2.ipynb",
      "provenance": [],
      "authorship_tag": "ABX9TyOy0BImL6p/5UlUeiuXhyeK",
      "include_colab_link": true
    },
    "kernelspec": {
      "name": "python3",
      "display_name": "Python 3"
    }
  },
  "cells": [
    {
      "cell_type": "markdown",
      "metadata": {
        "id": "view-in-github",
        "colab_type": "text"
      },
      "source": [
        "<a href=\"https://colab.research.google.com/github/Aycangsade/gaih-students-repo-example-Aycan-Gizem-Sade/blob/main/Homework_2.ipynb\" target=\"_parent\"><img src=\"https://colab.research.google.com/assets/colab-badge.svg\" alt=\"Open In Colab\"/></a>"
      ]
    },
    {
      "cell_type": "code",
      "metadata": {
        "colab": {
          "base_uri": "https://localhost:8080/"
        },
        "id": "raCokTm0s8XY",
        "outputId": "57707b95-5764-4521-c65d-6dbcaba044df"
      },
      "source": [
        "#Homework2 Python Codes\r\n",
        "print(\"CV of Candidate-1 is :\")\r\n",
        "d1={\"Name:\":'Aycan Gizem',\"Surname:\":\"Sade\", \"Age:\":\"21\", \"Country:\":\"Turkey\",  \"Department:\":\"Industrial Engineering\"}\r\n",
        "for a,b in d1.items():\r\n",
        "  print(a,b)"
      ],
      "execution_count": 8,
      "outputs": [
        {
          "output_type": "stream",
          "text": [
            "CV of Candidate-1 is :\n",
            "Name: Aycan Gizem\n",
            "Surname: Sade\n",
            "Age: 21\n",
            "Country: Turkey\n",
            "Department: Industrial Engineering\n"
          ],
          "name": "stdout"
        }
      ]
    },
    {
      "cell_type": "code",
      "metadata": {
        "colab": {
          "base_uri": "https://localhost:8080/"
        },
        "id": "muc4KoGw6CqD",
        "outputId": "1898872d-4234-4762-bd4e-18c71824986e"
      },
      "source": [
        "print(\"CV of Candidate-2 is :\")\r\n",
        "d2={\"Name:\":\"Ömer\",\"Surname:\":\"Cengiz\",\"Age:\":\"25\",\"Country:\":\"Turkey\",\"Department:\":\"Software Engineering\"}\r\n",
        "for a,b in d2.items():\r\n",
        "  print(a,b)"
      ],
      "execution_count": 9,
      "outputs": [
        {
          "output_type": "stream",
          "text": [
            "CV of Candidate-2 is :\n",
            "Name: Ömer\n",
            "Surname: Cengiz\n",
            "Age: 25\n",
            "Country: Turkey\n",
            "Department: Software Engineering\n"
          ],
          "name": "stdout"
        }
      ]
    },
    {
      "cell_type": "code",
      "metadata": {
        "colab": {
          "base_uri": "https://localhost:8080/"
        },
        "id": "pzvkb8Hn6lZJ",
        "outputId": "acca2b82-f172-46a4-dd6b-fa2df7f1a223"
      },
      "source": [
        "print(\"CV of Candidate-3 is :\")\r\n",
        "d3={\"Name:\":\"Ezgi\",\"Surname:\":\"Subaşı\",\"Age:\":\"24\",\"Country:\":\"Turkey\",\"Department:\":\"Business Administration\"}\r\n",
        "for a,b in d3.items():\r\n",
        "  print(a,b)"
      ],
      "execution_count": 10,
      "outputs": [
        {
          "output_type": "stream",
          "text": [
            "CV of Candidate-3 is :\n",
            "Name: Ezgi\n",
            "Surname: Subaşı\n",
            "Age: 24\n",
            "Country: Turkey\n",
            "Department: Business Administration\n"
          ],
          "name": "stdout"
        }
      ]
    },
    {
      "cell_type": "code",
      "metadata": {
        "colab": {
          "base_uri": "https://localhost:8080/"
        },
        "id": "EiVJ1JvV7SuO",
        "outputId": "c4c41f94-1463-41a0-bcff-5fff9fc20f72"
      },
      "source": [
        "print(\"CV of Candidate-4 is :\")\r\n",
        "d4={\"Name:\":\"Robert\",\"Surname:\":\"Smith\",\"Age:\":\"34\",\"Country:\":\"Scotland\",\"Department:\":\"Law\"}\r\n",
        "for a,b in d4.items():\r\n",
        "  print(a,b)"
      ],
      "execution_count": 11,
      "outputs": [
        {
          "output_type": "stream",
          "text": [
            "CV of Candidate-4 is :\n",
            "Name: Robert\n",
            "Surname: Smith\n",
            "Age: 34\n",
            "Country: Scotland\n",
            "Department: Law\n"
          ],
          "name": "stdout"
        }
      ]
    },
    {
      "cell_type": "code",
      "metadata": {
        "colab": {
          "base_uri": "https://localhost:8080/"
        },
        "id": "asOEKUzm7mKM",
        "outputId": "32f0ffaa-3364-4232-bee5-2da8f102f796"
      },
      "source": [
        "print(\"CV of Candidate-5 is :\")\r\n",
        "d5={\"Name:\":\"Amata Patricia\",\"Surname:\":\"Simon\",\"Age:\":\"48\",\"Country:\":\"France\",\"Department:\":\"Security\"}\r\n",
        "for a,b in d5.items():\r\n",
        "  print(a,b)"
      ],
      "execution_count": 13,
      "outputs": [
        {
          "output_type": "stream",
          "text": [
            "CV of Candidate-5 is :\n",
            "Name: Amata Patricia\n",
            "Surname: Simon\n",
            "Age: 48\n",
            "Country: France\n",
            "Department: Security\n"
          ],
          "name": "stdout"
        }
      ]
    }
  ]
}