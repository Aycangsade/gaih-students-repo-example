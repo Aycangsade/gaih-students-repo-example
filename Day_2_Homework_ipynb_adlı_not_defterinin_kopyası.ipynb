{
  "nbformat": 4,
  "nbformat_minor": 0,
  "metadata": {
    "colab": {
      "name": "Day-2 Homework.ipynb adlı not defterinin kopyası",
      "provenance": [],
      "authorship_tag": "ABX9TyOxn04ONaOtk+rCYuU1UEU9",
      "include_colab_link": true
    },
    "kernelspec": {
      "name": "python3",
      "display_name": "Python 3"
    },
    "language_info": {
      "name": "python"
    }
  },
  "cells": [
    {
      "cell_type": "markdown",
      "metadata": {
        "id": "view-in-github",
        "colab_type": "text"
      },
      "source": [
        "<a href=\"https://colab.research.google.com/github/Aycangsade/gaih-students-repo-example-Aycan-Gizem-Sade/blob/main/Day_2_Homework_ipynb_adl%C4%B1_not_defterinin_kopyas%C4%B1.ipynb\" target=\"_parent\"><img src=\"https://colab.research.google.com/assets/colab-badge.svg\" alt=\"Open In Colab\"/></a>"
      ]
    },
    {
      "cell_type": "code",
      "metadata": {
        "colab": {
          "base_uri": "https://localhost:8080/"
        },
        "id": "snWaxHdk8qog",
        "outputId": "e918e865-8990-4464-faa0-22f9ea534a45"
      },
      "source": [
        "#Day-2 Python Homework Codes\n",
        "list=[10,20,30,40,50,60,70,80]\n",
        "list1=list[:4]\n",
        "list2=list[4:]\n",
        "list3=list2+list1\n",
        "print(list1)\n",
        "print(list2)\n",
        "print(list3)\n"
      ],
      "execution_count": null,
      "outputs": [
        {
          "output_type": "stream",
          "text": [
            "[10, 20, 30, 40]\n",
            "[50, 60, 70, 80]\n",
            "[50, 60, 70, 80, 10, 20, 30, 40]\n"
          ],
          "name": "stdout"
        }
      ]
    },
    {
      "cell_type": "code",
      "metadata": {
        "id": "M2ZRQSCaG6Dr"
      },
      "source": [
        "user_number=input(\"Please write single digit integer value.\")\n",
        "if int(user_number) < 10:\n",
        "  for i in range(int(user_number)):\n",
        "    if i %2== 0:\n",
        "      print(i)\n",
        "else:\n",
        "  print(\"You must write single digit value.\")\n"
      ],
      "execution_count": null,
      "outputs": []
    }
  ]
}