{
  "nbformat": 4,
  "nbformat_minor": 0,
  "metadata": {
    "colab": {
      "name": "Homework-3.ipynb",
      "provenance": [],
      "authorship_tag": "ABX9TyPRP6hxQmiTdUJkFs7pNjgP",
      "include_colab_link": true
    },
    "kernelspec": {
      "name": "python3",
      "display_name": "Python 3"
    }
  },
  "cells": [
    {
      "cell_type": "markdown",
      "metadata": {
        "id": "view-in-github",
        "colab_type": "text"
      },
      "source": [
        "<a href=\"https://colab.research.google.com/github/Aycangsade/gaih-students-repo-example-Aycan-Gizem-Sade/blob/main/Homework_3.ipynb\" target=\"_parent\"><img src=\"https://colab.research.google.com/assets/colab-badge.svg\" alt=\"Open In Colab\"/></a>"
      ]
    },
    {
      "cell_type": "code",
      "metadata": {
        "id": "pTp6bvIiSJ6c"
      },
      "source": [
        "#Homework-3 Python Codes\r\n",
        "Name1=input(\"Name of student1 is :\")\r\n",
        "x1=int(input(\"Midterm grade of student1 is :\"))\r\n",
        "x2=int(input(\"Project grade of student1 is :\"))\r\n",
        "x3=int(input(\"Final grade of student1 is :\"))\r\n",
        "PassingGrade1= x1*0.30 + x2*0.30 +x3*0.40\r\n",
        "print(PassingGrade1)"
      ],
      "execution_count": null,
      "outputs": []
    },
    {
      "cell_type": "code",
      "metadata": {
        "id": "rnYxF2n5I-3X"
      },
      "source": [
        "Name2=input(\"Name of student2 is :\")\r\n",
        "y1=int(input(\"Midterm grade of student2 is :\"))\r\n",
        "y2=int(input(\"Project grade of student2 is :\"))\r\n",
        "y3=int(input(\"Final grade of student2 is :\"))\r\n",
        "PassingGrade2= y1*0.30 + y2*0.30 + y3*0.40\r\n",
        "print(PassingGrade2)"
      ],
      "execution_count": null,
      "outputs": []
    },
    {
      "cell_type": "code",
      "metadata": {
        "id": "Ouztfv9IJ1-O"
      },
      "source": [
        "Name3=input(\"Name of student3 is :\")\r\n",
        "z1=int(input(\"Midterm grade of student3 is :\"))\r\n",
        "z2=int(input(\"Project grade of student3 is :\"))\r\n",
        "z3=int(input(\"Final grade of student3 is :\"))\r\n",
        "PassingGrade3= z1*0.3+z2*0.3+z3*0.4\r\n",
        "print(PassingGrade3)"
      ],
      "execution_count": null,
      "outputs": []
    },
    {
      "cell_type": "code",
      "metadata": {
        "id": "sf1xb7TXKVY3"
      },
      "source": [
        "Name4=input(\"Name of student4 is :\")\r\n",
        "a1=int(input(\"Midterm grade of student4 is :\"))\r\n",
        "a2=int(input(\"Project grade of student4 is :\"))\r\n",
        "a3=int(input(\"Final grade of student4 is :\"))\r\n",
        "PassingGrade4=a1*0.3+a2*0.3+a3*0.4\r\n",
        "print(PassingGrade4)"
      ],
      "execution_count": null,
      "outputs": []
    },
    {
      "cell_type": "code",
      "metadata": {
        "id": "fQWXvCTmK7er"
      },
      "source": [
        "Name5=input(\"Name of student5 is :\")\r\n",
        "b1=int(input(\"Midterm grade of student5 is :\"))\r\n",
        "b2=int(input(\"Project grade of student5 is :\"))\r\n",
        "b3=int(input(\"Final grade of student5 is :\"))\r\n",
        "PassingGrade5=b1*0.3+b2*0.3+b3*0.4\r\n",
        "print(PassingGrade5)"
      ],
      "execution_count": null,
      "outputs": []
    },
    {
      "cell_type": "code",
      "metadata": {
        "id": "UZoXujgZfoxe"
      },
      "source": [
        "dictionary={Name1:PassingGrade1,Name2:PassingGrade2,Name3:PassingGrade3,Name4:PassingGrade4,Name5:PassingGrade5}\r\n",
        "print(dictionary)"
      ],
      "execution_count": null,
      "outputs": []
    },
    {
      "cell_type": "code",
      "metadata": {
        "id": "rflZvkaQMOtC"
      },
      "source": [
        "StudentsPassingGrades=[PassingGrade1,PassingGrade2,PassingGrade3,PassingGrade4,PassingGrade5]\r\n",
        "StudentsPassingGrades.sort()\r\n",
        "print(StudentsPassingGrades)"
      ],
      "execution_count": null,
      "outputs": []
    }
  ]
}