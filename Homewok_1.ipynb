{
  "nbformat": 4,
  "nbformat_minor": 0,
  "metadata": {
    "colab": {
      "name": "Homewok-1.ipynb ",
      "provenance": [],
      "authorship_tag": "ABX9TyMzzH6GOPeNrcMx6omWeEhg",
      "include_colab_link": true
    },
    "kernelspec": {
      "name": "python3",
      "display_name": "Python 3"
    }
  },
  "cells": [
    {
      "cell_type": "markdown",
      "metadata": {
        "id": "view-in-github",
        "colab_type": "text"
      },
      "source": [
        "<a href=\"https://colab.research.google.com/github/Aycangsade/gaih-students-repo-example-Aycan-Gizem-Sade/blob/main/Homewok_1.ipynb\" target=\"_parent\"><img src=\"https://colab.research.google.com/assets/colab-badge.svg\" alt=\"Open In Colab\"/></a>"
      ]
    },
    {
      "cell_type": "code",
      "metadata": {
        "colab": {
          "base_uri": "https://localhost:8080/"
        },
        "id": "5P71ByrXqB9n",
        "outputId": "afc06e55-3ae7-41a7-9782-f2257d98a19c"
      },
      "source": [
        "#Homework1 Python Codes\r\n",
        "list1=[11,33,55,77,99,111]  #odd numbers\r\n",
        "print(list1)"
      ],
      "execution_count": null,
      "outputs": [
        {
          "output_type": "stream",
          "text": [
            "[11, 33, 55, 77, 99, 111]\n"
          ],
          "name": "stdout"
        }
      ]
    },
    {
      "cell_type": "code",
      "metadata": {
        "colab": {
          "base_uri": "https://localhost:8080/"
        },
        "id": "pC0BbiCEqb1-",
        "outputId": "97769c6c-6cf9-467f-a761-1f2fb9436a12"
      },
      "source": [
        "list2=[22,44,66,88,100,110] #even numbers\r\n",
        "print(list2)\r\n"
      ],
      "execution_count": null,
      "outputs": [
        {
          "output_type": "stream",
          "text": [
            "[22, 44, 66, 88, 100, 110]\n"
          ],
          "name": "stdout"
        }
      ]
    },
    {
      "cell_type": "code",
      "metadata": {
        "colab": {
          "base_uri": "https://localhost:8080/"
        },
        "id": "YjYVrZnAqsOC",
        "outputId": "17015c63-a03d-4512-b757-e11794911ce6"
      },
      "source": [
        "list1.extend(list2)\r\n",
        "list1"
      ],
      "execution_count": null,
      "outputs": [
        {
          "output_type": "execute_result",
          "data": {
            "text/plain": [
              "[11, 33, 55, 77, 99, 111, 22, 44, 66, 88, 100, 110]"
            ]
          },
          "metadata": {
            "tags": []
          },
          "execution_count": 5
        }
      ]
    },
    {
      "cell_type": "code",
      "metadata": {
        "colab": {
          "base_uri": "https://localhost:8080/"
        },
        "id": "Wn4eELEPq_v-",
        "outputId": "475e48ed-ea34-4a8d-bb7d-e07ac2661a75"
      },
      "source": [
        "newList=[element * 2 for element in list1]\r\n",
        "print(newList)"
      ],
      "execution_count": null,
      "outputs": [
        {
          "output_type": "stream",
          "text": [
            "[22, 66, 110, 154, 198, 222, 44, 88, 132, 176, 200, 220]\n"
          ],
          "name": "stdout"
        }
      ]
    },
    {
      "cell_type": "code",
      "metadata": {
        "colab": {
          "base_uri": "https://localhost:8080/"
        },
        "id": "8k0Xf5R6rWA9",
        "outputId": "ad9f2dec-1e54-4ac8-a212-8b5af3efa3e1"
      },
      "source": [
        "for i in newList: #For Loop Structure\r\n",
        "  print(type(i))"
      ],
      "execution_count": null,
      "outputs": [
        {
          "output_type": "stream",
          "text": [
            "<class 'int'>\n",
            "<class 'int'>\n",
            "<class 'int'>\n",
            "<class 'int'>\n",
            "<class 'int'>\n",
            "<class 'int'>\n",
            "<class 'int'>\n",
            "<class 'int'>\n",
            "<class 'int'>\n",
            "<class 'int'>\n",
            "<class 'int'>\n",
            "<class 'int'>\n"
          ],
          "name": "stdout"
        }
      ]
    }
  ]
}