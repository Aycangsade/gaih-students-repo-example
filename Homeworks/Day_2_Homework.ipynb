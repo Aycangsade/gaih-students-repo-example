{
  "nbformat": 4,
  "nbformat_minor": 0,
  "metadata": {
    "colab": {
      "name": "Day-2 Homework.ipynb",
      "provenance": []
    },
    "kernelspec": {
      "name": "python3",
      "display_name": "Python 3"
    },
    "language_info": {
      "name": "python"
    }
  },
  "cells": [
    {
      "cell_type": "code",
      "metadata": {
        "colab": {
          "base_uri": "https://localhost:8080/"
        },
        "id": "snWaxHdk8qog",
        "outputId": "e918e865-8990-4464-faa0-22f9ea534a45"
      },
      "source": [
        "#Day-2 Python Homework Codes\n",
        "\"\"\"\n",
        "list=[10,20,30,40,50,60,70,80]\n",
        "list1=list[:4]\n",
        "list2=list[4:]\n",
        "list3=list2+list1\n",
        "print(list1)\n",
        "print(list2)\n",
        "print(list3)\n"
      ],
      "execution_count": null,
      "outputs": [
        {
          "output_type": "stream",
          "text": [
            "[10, 20, 30, 40]\n",
            "[50, 60, 70, 80]\n",
            "[50, 60, 70, 80, 10, 20, 30, 40]\n"
          ],
          "name": "stdout"
        }
      ]
    },
    {
      "cell_type": "code",
      "metadata": {
        "id": "M2ZRQSCaG6Dr"
      },
      "source": [
        "user_number=input(\"Please write single digit integer value.\")\n",
        "if int(user_number) < 10:\n",
        "  for i in range(int(user_number)):\n",
        "    if i %2== 0:\n",
        "      print(i)\n",
        "else:\n",
        "  print(\"You must write single digit value.\")\n"
      ],
      "execution_count": null,
      "outputs": []
    }
  ]
}