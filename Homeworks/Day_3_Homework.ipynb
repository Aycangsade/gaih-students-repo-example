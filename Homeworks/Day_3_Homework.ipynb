{
  "nbformat": 4,
  "nbformat_minor": 0,
  "metadata": {
    "colab": {
      "name": "Day-3 Homework.ipynb",
      "provenance": []
    },
    "kernelspec": {
      "name": "python3",
      "display_name": "Python 3"
    },
    "language_info": {
      "name": "python"
    }
  },
  "cells": [
    {
      "cell_type": "code",
      "metadata": {
        "id": "Y4wq0y1SiSmU"
      },
      "source": [
        "#Python Day-3 Homework Codes:\n",
        "\"\"\"\n",
        "User login application:\n",
        "-Get username and password values from the user.\n",
        "-Check the values in an if statement and tell the user if they were successful.\n",
        "\"\"\"\n",
        "username=\"aycan.sade\"\n",
        "password=\"python123\"\n",
        "\n",
        "count=2\n",
        "\n",
        "while count >= 0:\n",
        "\n",
        "  usernamee=input(\"Please enter your username!\")\n",
        "  passwordd=input(\"Please enter your password!\")\n",
        "  if username == usernamee and password == passwordd:\n",
        "    print(\"Welcome! Login successful.\")\n",
        "    break\n",
        "  elif username == usernamee:\n",
        "    print(\"Incorrect password.\")\n",
        "  else:\n",
        "    print(\"Username and password are ıncorrect.\")\n",
        "\n",
        "  count -=1\n",
        "\n"
      ],
      "execution_count": null,
      "outputs": []
    }
  ]
}